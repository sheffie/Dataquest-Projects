{
 "cells": [
  {
   "cell_type": "code",
   "execution_count": 1,
   "metadata": {
    "collapsed": false
   },
   "outputs": [
    {
     "name": "stdout",
     "output_type": "stream",
     "text": [
      "   RespondentID Have you seen any of the 6 films in the Star Wars franchise?  \\\n",
      "0           NaN                                           Response             \n",
      "1  3.292880e+09                                                Yes             \n",
      "2  3.292880e+09                                                 No             \n",
      "3  3.292765e+09                                                Yes             \n",
      "4  3.292763e+09                                                Yes             \n",
      "5  3.292731e+09                                                Yes             \n",
      "6  3.292719e+09                                                Yes             \n",
      "7  3.292685e+09                                                Yes             \n",
      "8  3.292664e+09                                                Yes             \n",
      "9  3.292654e+09                                                Yes             \n",
      "\n",
      "  Do you consider yourself to be a fan of the Star Wars film franchise?  \\\n",
      "0                                           Response                      \n",
      "1                                                Yes                      \n",
      "2                                                NaN                      \n",
      "3                                                 No                      \n",
      "4                                                Yes                      \n",
      "5                                                Yes                      \n",
      "6                                                Yes                      \n",
      "7                                                Yes                      \n",
      "8                                                Yes                      \n",
      "9                                                Yes                      \n",
      "\n",
      "  Which of the following Star Wars films have you seen? Please select all that apply.  \\\n",
      "0           Star Wars: Episode I  The Phantom Menace                                    \n",
      "1           Star Wars: Episode I  The Phantom Menace                                    \n",
      "2                                                NaN                                    \n",
      "3           Star Wars: Episode I  The Phantom Menace                                    \n",
      "4           Star Wars: Episode I  The Phantom Menace                                    \n",
      "5           Star Wars: Episode I  The Phantom Menace                                    \n",
      "6           Star Wars: Episode I  The Phantom Menace                                    \n",
      "7           Star Wars: Episode I  The Phantom Menace                                    \n",
      "8           Star Wars: Episode I  The Phantom Menace                                    \n",
      "9           Star Wars: Episode I  The Phantom Menace                                    \n",
      "\n",
      "                                    Unnamed: 4  \\\n",
      "0  Star Wars: Episode II  Attack of the Clones   \n",
      "1  Star Wars: Episode II  Attack of the Clones   \n",
      "2                                          NaN   \n",
      "3  Star Wars: Episode II  Attack of the Clones   \n",
      "4  Star Wars: Episode II  Attack of the Clones   \n",
      "5  Star Wars: Episode II  Attack of the Clones   \n",
      "6  Star Wars: Episode II  Attack of the Clones   \n",
      "7  Star Wars: Episode II  Attack of the Clones   \n",
      "8  Star Wars: Episode II  Attack of the Clones   \n",
      "9  Star Wars: Episode II  Attack of the Clones   \n",
      "\n",
      "                                    Unnamed: 5  \\\n",
      "0  Star Wars: Episode III  Revenge of the Sith   \n",
      "1  Star Wars: Episode III  Revenge of the Sith   \n",
      "2                                          NaN   \n",
      "3  Star Wars: Episode III  Revenge of the Sith   \n",
      "4  Star Wars: Episode III  Revenge of the Sith   \n",
      "5  Star Wars: Episode III  Revenge of the Sith   \n",
      "6  Star Wars: Episode III  Revenge of the Sith   \n",
      "7  Star Wars: Episode III  Revenge of the Sith   \n",
      "8  Star Wars: Episode III  Revenge of the Sith   \n",
      "9  Star Wars: Episode III  Revenge of the Sith   \n",
      "\n",
      "                          Unnamed: 6  \\\n",
      "0  Star Wars: Episode IV  A New Hope   \n",
      "1  Star Wars: Episode IV  A New Hope   \n",
      "2                                NaN   \n",
      "3                                NaN   \n",
      "4  Star Wars: Episode IV  A New Hope   \n",
      "5  Star Wars: Episode IV  A New Hope   \n",
      "6  Star Wars: Episode IV  A New Hope   \n",
      "7  Star Wars: Episode IV  A New Hope   \n",
      "8  Star Wars: Episode IV  A New Hope   \n",
      "9  Star Wars: Episode IV  A New Hope   \n",
      "\n",
      "                                     Unnamed: 7  \\\n",
      "0  Star Wars: Episode V The Empire Strikes Back   \n",
      "1  Star Wars: Episode V The Empire Strikes Back   \n",
      "2                                           NaN   \n",
      "3                                           NaN   \n",
      "4  Star Wars: Episode V The Empire Strikes Back   \n",
      "5  Star Wars: Episode V The Empire Strikes Back   \n",
      "6  Star Wars: Episode V The Empire Strikes Back   \n",
      "7  Star Wars: Episode V The Empire Strikes Back   \n",
      "8  Star Wars: Episode V The Empire Strikes Back   \n",
      "9  Star Wars: Episode V The Empire Strikes Back   \n",
      "\n",
      "                                 Unnamed: 8  \\\n",
      "0  Star Wars: Episode VI Return of the Jedi   \n",
      "1  Star Wars: Episode VI Return of the Jedi   \n",
      "2                                       NaN   \n",
      "3                                       NaN   \n",
      "4  Star Wars: Episode VI Return of the Jedi   \n",
      "5  Star Wars: Episode VI Return of the Jedi   \n",
      "6  Star Wars: Episode VI Return of the Jedi   \n",
      "7  Star Wars: Episode VI Return of the Jedi   \n",
      "8  Star Wars: Episode VI Return of the Jedi   \n",
      "9  Star Wars: Episode VI Return of the Jedi   \n",
      "\n",
      "  Please rank the Star Wars films in order of preference with 1 being your favorite film in the franchise and 6 being your least favorite film.  \\\n",
      "0           Star Wars: Episode I  The Phantom Menace                                                                                              \n",
      "1                                                  3                                                                                              \n",
      "2                                                NaN                                                                                              \n",
      "3                                                  1                                                                                              \n",
      "4                                                  5                                                                                              \n",
      "5                                                  5                                                                                              \n",
      "6                                                  1                                                                                              \n",
      "7                                                  6                                                                                              \n",
      "8                                                  4                                                                                              \n",
      "9                                                  5                                                                                              \n",
      "\n",
      "            ...                    Unnamed: 28  \\\n",
      "0           ...                           Yoda   \n",
      "1           ...                 Very favorably   \n",
      "2           ...                            NaN   \n",
      "3           ...               Unfamiliar (N/A)   \n",
      "4           ...                 Very favorably   \n",
      "5           ...             Somewhat favorably   \n",
      "6           ...                 Very favorably   \n",
      "7           ...                 Very favorably   \n",
      "8           ...                 Very favorably   \n",
      "9           ...             Somewhat favorably   \n",
      "\n",
      "        Which character shot first?  \\\n",
      "0                          Response   \n",
      "1  I don't understand this question   \n",
      "2                               NaN   \n",
      "3  I don't understand this question   \n",
      "4  I don't understand this question   \n",
      "5                            Greedo   \n",
      "6                               Han   \n",
      "7                               Han   \n",
      "8                               Han   \n",
      "9                               Han   \n",
      "\n",
      "  Are you familiar with the Expanded Universe?  \\\n",
      "0                                     Response   \n",
      "1                                          Yes   \n",
      "2                                          NaN   \n",
      "3                                           No   \n",
      "4                                           No   \n",
      "5                                          Yes   \n",
      "6                                          Yes   \n",
      "7                                          Yes   \n",
      "8                                           No   \n",
      "9                                           No   \n",
      "\n",
      "  Do you consider yourself to be a fan of the Expanded Universe?ÂÃ¦  \\\n",
      "0                                           Response                   \n",
      "1                                                 No                   \n",
      "2                                                NaN                   \n",
      "3                                                NaN                   \n",
      "4                                                NaN                   \n",
      "5                                                 No                   \n",
      "6                                                 No                   \n",
      "7                                                 No                   \n",
      "8                                                NaN                   \n",
      "9                                                NaN                   \n",
      "\n",
      "  Do you consider yourself to be a fan of the Star Trek franchise?    Gender  \\\n",
      "0                                           Response                Response   \n",
      "1                                                 No                    Male   \n",
      "2                                                Yes                    Male   \n",
      "3                                                 No                    Male   \n",
      "4                                                Yes                    Male   \n",
      "5                                                 No                    Male   \n",
      "6                                                Yes                    Male   \n",
      "7                                                 No                    Male   \n",
      "8                                                Yes                    Male   \n",
      "9                                                 No                    Male   \n",
      "\n",
      "        Age     Household Income                         Education  \\\n",
      "0  Response             Response                          Response   \n",
      "1     18-29                  NaN                High school degree   \n",
      "2     18-29         $0 - $24,999                   Bachelor degree   \n",
      "3     18-29         $0 - $24,999                High school degree   \n",
      "4     18-29  $100,000 - $149,999  Some college or Associate degree   \n",
      "5     18-29  $100,000 - $149,999  Some college or Associate degree   \n",
      "6     18-29    $25,000 - $49,999                   Bachelor degree   \n",
      "7     18-29                  NaN                High school degree   \n",
      "8     18-29                  NaN                High school degree   \n",
      "9     18-29         $0 - $24,999  Some college or Associate degree   \n",
      "\n",
      "  Location (Census Region)  \n",
      "0                 Response  \n",
      "1           South Atlantic  \n",
      "2       West South Central  \n",
      "3       West North Central  \n",
      "4       West North Central  \n",
      "5       West North Central  \n",
      "6          Middle Atlantic  \n",
      "7       East North Central  \n",
      "8           South Atlantic  \n",
      "9           South Atlantic  \n",
      "\n",
      "[10 rows x 38 columns]\n",
      "Index(['RespondentID',\n",
      "       'Have you seen any of the 6 films in the Star Wars franchise?',\n",
      "       'Do you consider yourself to be a fan of the Star Wars film franchise?',\n",
      "       'Which of the following Star Wars films have you seen? Please select all that apply.',\n",
      "       'Unnamed: 4', 'Unnamed: 5', 'Unnamed: 6', 'Unnamed: 7', 'Unnamed: 8',\n",
      "       'Please rank the Star Wars films in order of preference with 1 being your favorite film in the franchise and 6 being your least favorite film.',\n",
      "       'Unnamed: 10', 'Unnamed: 11', 'Unnamed: 12', 'Unnamed: 13',\n",
      "       'Unnamed: 14',\n",
      "       'Please state whether you view the following characters favorably, unfavorably, or are unfamiliar with him/her.',\n",
      "       'Unnamed: 16', 'Unnamed: 17', 'Unnamed: 18', 'Unnamed: 19',\n",
      "       'Unnamed: 20', 'Unnamed: 21', 'Unnamed: 22', 'Unnamed: 23',\n",
      "       'Unnamed: 24', 'Unnamed: 25', 'Unnamed: 26', 'Unnamed: 27',\n",
      "       'Unnamed: 28', 'Which character shot first?',\n",
      "       'Are you familiar with the Expanded Universe?',\n",
      "       'Do you consider yourself to be a fan of the Expanded Universe?ÂÃ¦',\n",
      "       'Do you consider yourself to be a fan of the Star Trek franchise?',\n",
      "       'Gender', 'Age', 'Household Income', 'Education',\n",
      "       'Location (Census Region)'],\n",
      "      dtype='object')\n"
     ]
    }
   ],
   "source": [
    "import pandas as pd\n",
    "star_wars = pd.read_csv(\"star_wars.csv\", encoding=\"ISO-8859-1\")\n",
    "\n",
    "print(star_wars.head(10))\n",
    "print(star_wars.columns)"
   ]
  },
  {
   "cell_type": "code",
   "execution_count": 2,
   "metadata": {
    "collapsed": true
   },
   "outputs": [],
   "source": [
    "star_wars = star_wars[pd.notnull(star_wars[\"RespondentID\"])]"
   ]
  },
  {
   "cell_type": "code",
   "execution_count": 3,
   "metadata": {
    "collapsed": false
   },
   "outputs": [],
   "source": [
    "star_wars[\"Have you seen any of the 6 films in the Star Wars franchise?\"]=star_wars[\"Have you seen any of the 6 films in the Star Wars franchise?\"].map({\"Yes\":True,\"No\":False})\n",
    "star_wars[\"Do you consider yourself to be a fan of the Star Wars film franchise?\"]=star_wars[\"Do you consider yourself to be a fan of the Star Wars film franchise?\"].map({\"Yes\":True,\"No\":False})"
   ]
  },
  {
   "cell_type": "code",
   "execution_count": 4,
   "metadata": {
    "collapsed": false
   },
   "outputs": [
    {
     "name": "stdout",
     "output_type": "stream",
     "text": [
      "   RespondentID Have you seen any of the 6 films in the Star Wars franchise?  \\\n",
      "1  3.292880e+09                                               True             \n",
      "2  3.292880e+09                                              False             \n",
      "3  3.292765e+09                                               True             \n",
      "4  3.292763e+09                                               True             \n",
      "5  3.292731e+09                                               True             \n",
      "\n",
      "  Do you consider yourself to be a fan of the Star Wars film franchise?  \\\n",
      "1                                               True                      \n",
      "2                                                NaN                      \n",
      "3                                              False                      \n",
      "4                                               True                      \n",
      "5                                               True                      \n",
      "\n",
      "  seen_1 seen_2 seen_3 seen_4 seen_5 seen_6  \\\n",
      "1   True   True   True   True   True   True   \n",
      "2  False  False  False  False  False  False   \n",
      "3   True   True   True  False  False  False   \n",
      "4   True   True   True   True   True   True   \n",
      "5   True   True   True   True   True   True   \n",
      "\n",
      "  Please rank the Star Wars films in order of preference with 1 being your favorite film in the franchise and 6 being your least favorite film.  \\\n",
      "1                                                  3                                                                                              \n",
      "2                                                NaN                                                                                              \n",
      "3                                                  1                                                                                              \n",
      "4                                                  5                                                                                              \n",
      "5                                                  5                                                                                              \n",
      "\n",
      "            ...                    Unnamed: 28  \\\n",
      "1           ...                 Very favorably   \n",
      "2           ...                            NaN   \n",
      "3           ...               Unfamiliar (N/A)   \n",
      "4           ...                 Very favorably   \n",
      "5           ...             Somewhat favorably   \n",
      "\n",
      "        Which character shot first?  \\\n",
      "1  I don't understand this question   \n",
      "2                               NaN   \n",
      "3  I don't understand this question   \n",
      "4  I don't understand this question   \n",
      "5                            Greedo   \n",
      "\n",
      "  Are you familiar with the Expanded Universe?  \\\n",
      "1                                          Yes   \n",
      "2                                          NaN   \n",
      "3                                           No   \n",
      "4                                           No   \n",
      "5                                          Yes   \n",
      "\n",
      "  Do you consider yourself to be a fan of the Expanded Universe?ÂÃ¦  \\\n",
      "1                                                 No                   \n",
      "2                                                NaN                   \n",
      "3                                                NaN                   \n",
      "4                                                NaN                   \n",
      "5                                                 No                   \n",
      "\n",
      "  Do you consider yourself to be a fan of the Star Trek franchise? Gender  \\\n",
      "1                                                 No                 Male   \n",
      "2                                                Yes                 Male   \n",
      "3                                                 No                 Male   \n",
      "4                                                Yes                 Male   \n",
      "5                                                 No                 Male   \n",
      "\n",
      "     Age     Household Income                         Education  \\\n",
      "1  18-29                  NaN                High school degree   \n",
      "2  18-29         $0 - $24,999                   Bachelor degree   \n",
      "3  18-29         $0 - $24,999                High school degree   \n",
      "4  18-29  $100,000 - $149,999  Some college or Associate degree   \n",
      "5  18-29  $100,000 - $149,999  Some college or Associate degree   \n",
      "\n",
      "  Location (Census Region)  \n",
      "1           South Atlantic  \n",
      "2       West South Central  \n",
      "3       West North Central  \n",
      "4       West North Central  \n",
      "5       West North Central  \n",
      "\n",
      "[5 rows x 38 columns]\n"
     ]
    }
   ],
   "source": [
    "import numpy as np\n",
    "\n",
    "col = [\"Which of the following Star Wars films have you seen? Please select all that apply.\"\n",
    "        ,\"Unnamed: 4\"\n",
    "        ,\"Unnamed: 5\"\n",
    "        ,\"Unnamed: 6\"\n",
    "        ,\"Unnamed: 7\"\n",
    "        ,\"Unnamed: 8\"]\n",
    "names = [\"Star Wars: Episode I  The Phantom Menace\"\n",
    "        ,\"Star Wars: Episode II  Attack of the Clones\"\n",
    "        ,\"Star Wars: Episode III  Revenge of the Sith\"\n",
    "        ,\"Star Wars: Episode IV  A New Hope\"\n",
    "        ,\"Star Wars: Episode V The Empire Strikes Back\"\n",
    "        ,\"Star Wars: Episode VI Return of the Jedi\"]\n",
    "new_names = [\"seen_1\"\n",
    "            ,\"seen_2\"\n",
    "            ,\"seen_3\"\n",
    "            ,\"seen_4\"\n",
    "            ,\"seen_5\"\n",
    "            ,\"seen_6\"]\n",
    "\n",
    "\n",
    "for i in range(len(col)):\n",
    "    star_wars[col[i]] = star_wars[col[i]].map({names[i]: True, None: False})\n",
    "\n",
    "\n",
    "for i in range(len(col)):\n",
    "    try:\n",
    "        star_wars = star_wars.rename(columns = {col[i] : new_names[i]})\n",
    "    except:\n",
    "        pass\n",
    "\n",
    "print(star_wars.head())"
   ]
  },
  {
   "cell_type": "code",
   "execution_count": 16,
   "metadata": {
    "collapsed": true
   },
   "outputs": [
    {
     "name": "stdout",
     "output_type": "stream",
     "text": [
      "   RespondentID Have you seen any of the 6 films in the Star Wars franchise?  \\\n",
      "1  3.292880e+09                                               True             \n",
      "2  3.292880e+09                                              False             \n",
      "3  3.292765e+09                                               True             \n",
      "4  3.292763e+09                                               True             \n",
      "5  3.292731e+09                                               True             \n",
      "\n",
      "  Do you consider yourself to be a fan of the Star Wars film franchise?  \\\n",
      "1                                               True                      \n",
      "2                                                NaN                      \n",
      "3                                              False                      \n",
      "4                                               True                      \n",
      "5                                               True                      \n",
      "\n",
      "  seen_1 seen_2 seen_3 seen_4 seen_5 seen_6  ranking_1  \\\n",
      "1   True   True   True   True   True   True        3.0   \n",
      "2  False  False  False  False  False  False        NaN   \n",
      "3   True   True   True  False  False  False        1.0   \n",
      "4   True   True   True   True   True   True        5.0   \n",
      "5   True   True   True   True   True   True        5.0   \n",
      "\n",
      "            ...                    Unnamed: 28  \\\n",
      "1           ...                 Very favorably   \n",
      "2           ...                            NaN   \n",
      "3           ...               Unfamiliar (N/A)   \n",
      "4           ...                 Very favorably   \n",
      "5           ...             Somewhat favorably   \n",
      "\n",
      "        Which character shot first?  \\\n",
      "1  I don't understand this question   \n",
      "2                               NaN   \n",
      "3  I don't understand this question   \n",
      "4  I don't understand this question   \n",
      "5                            Greedo   \n",
      "\n",
      "   Are you familiar with the Expanded Universe?  \\\n",
      "1                                           Yes   \n",
      "2                                           NaN   \n",
      "3                                            No   \n",
      "4                                            No   \n",
      "5                                           Yes   \n",
      "\n",
      "   Do you consider yourself to be a fan of the Expanded Universe?ÂÃ¦  \\\n",
      "1                                                 No                    \n",
      "2                                                NaN                    \n",
      "3                                                NaN                    \n",
      "4                                                NaN                    \n",
      "5                                                 No                    \n",
      "\n",
      "   Do you consider yourself to be a fan of the Star Trek franchise? Gender  \\\n",
      "1                                                 No                  Male   \n",
      "2                                                Yes                  Male   \n",
      "3                                                 No                  Male   \n",
      "4                                                Yes                  Male   \n",
      "5                                                 No                  Male   \n",
      "\n",
      "     Age     Household Income                         Education  \\\n",
      "1  18-29                  NaN                High school degree   \n",
      "2  18-29         $0 - $24,999                   Bachelor degree   \n",
      "3  18-29         $0 - $24,999                High school degree   \n",
      "4  18-29  $100,000 - $149,999  Some college or Associate degree   \n",
      "5  18-29  $100,000 - $149,999  Some college or Associate degree   \n",
      "\n",
      "  Location (Census Region)  \n",
      "1           South Atlantic  \n",
      "2       West South Central  \n",
      "3       West North Central  \n",
      "4       West North Central  \n",
      "5       West North Central  \n",
      "\n",
      "[5 rows x 38 columns]\n"
     ]
    }
   ],
   "source": [
    "col2 = [\"Please rank the Star Wars films in order of preference with 1 being your favorite film in the franchise and 6 being your least favorite film.\"\n",
    "        ,\"Unnamed: 10\"\n",
    "        ,\"Unnamed: 11\"\n",
    "        ,\"Unnamed: 12\"\n",
    "        ,\"Unnamed: 13\"\n",
    "        ,\"Unnamed: 14\"]\n",
    "new_names2 = [\"ranking_1\"\n",
    "            ,\"ranking_2\"\n",
    "            ,\"ranking_3\"\n",
    "            ,\"ranking_4\"\n",
    "            ,\"ranking_5\"\n",
    "            ,\"ranking_6\"]\n",
    "try:\n",
    "    star_wars[col2] = star_wars[col2].astype(float)\n",
    "except:\n",
    "    pass\n",
    "\n",
    "for i in range(len(col)):\n",
    "    try:\n",
    "        star_wars = star_wars.rename(columns = {col2[i] : new_names2[i]})\n",
    "    except:\n",
    "        pass\n",
    "\n",
    "print(star_wars.head())\n"
   ]
  },
  {
   "cell_type": "code",
   "execution_count": 30,
   "metadata": {
    "collapsed": false
   },
   "outputs": [
    {
     "name": "stdout",
     "output_type": "stream",
     "text": [
      "[3.7329341317365268, 4.0873205741626792, 4.341317365269461, 3.2727272727272729, 2.513157894736842, 3.0478468899521531]\n"
     ]
    },
    {
     "data": {
      "text/plain": [
       "[<matplotlib.text.Text at 0x7f0d04b69da0>,\n",
       " <matplotlib.text.Text at 0x7f0d04c062e8>,\n",
       " <matplotlib.text.Text at 0x7f0d04bcb128>,\n",
       " <matplotlib.text.Text at 0x7f0d04ac3550>,\n",
       " <matplotlib.text.Text at 0x7f0d04ac1eb8>,\n",
       " <matplotlib.text.Text at 0x7f0d04b0d240>]"
      ]
     },
     "execution_count": 30,
     "metadata": {},
     "output_type": "execute_result"
    },
    {
     "data": {
      "image/png": "[encoded data removed]",
      "text/plain": [
       "<matplotlib.figure.Figure at 0x7f0d04a5d668>"
      ]
     },
     "metadata": {},
     "output_type": "display_data"
    }
   ],
   "source": [
    "import matplotlib.pyplot as plt\n",
    "import pandas as pd\n",
    "%matplotlib inline\n",
    "avg = []\n",
    "for i in range(len(new_names2)):\n",
    "    avg.append(star_wars[new_names2[i]].mean())\n",
    "\n",
    "print(avg)\n",
    "fig, ax = plt.subplots(figsize=(6,6))    \n",
    "ax.bar(range(len(new_names2)),avg)\n",
    "ax.set_xticklabels(new_names2,rotation = 40)\n",
    "\n",
    "    "
   ]
  },
  {
   "cell_type": "code",
   "execution_count": 33,
   "metadata": {
    "collapsed": false
   },
   "outputs": [
    {
     "name": "stdout",
     "output_type": "stream",
     "text": [
      "[673, 571, 550, 607, 758, 738]\n"
     ]
    },
    {
     "data": {
      "text/plain": [
       "[<matplotlib.text.Text at 0x7f0d04a644e0>,\n",
       " <matplotlib.text.Text at 0x7f0d04b0d6d8>,\n",
       " <matplotlib.text.Text at 0x7f0d0495ab00>,\n",
       " <matplotlib.text.Text at 0x7f0d0495b550>,\n",
       " <matplotlib.text.Text at 0x7f0d0495bf60>,\n",
       " <matplotlib.text.Text at 0x7f0d049609b0>]"
      ]
     },
     "execution_count": 33,
     "metadata": {},
     "output_type": "execute_result"
    },
    {
     "data": {
      "image/png": "[encoded data removed]",
      "text/plain": [
       "<matplotlib.figure.Figure at 0x7f0d04a40b00>"
      ]
     },
     "metadata": {},
     "output_type": "display_data"
    }
   ],
   "source": [
    "seen_sum = []\n",
    "for i in range(len(new_names)):\n",
    "    seen_sum.append(star_wars[new_names[i]].sum())\n",
    "    \n",
    "print(seen_sum)\n",
    "fig, ax = plt.subplots(figsize=(6,6))    \n",
    "ax.bar(range(len(new_names)),seen_sum)\n",
    "ax.set_xticklabels(new_names,rotation = 40)\n",
    "\n"
   ]
  },
  {
   "cell_type": "code",
   "execution_count": 35,
   "metadata": {
    "collapsed": true
   },
   "outputs": [],
   "source": [
    "males = star_wars[star_wars[\"Gender\"] == \"Male\"]\n",
    "females = star_wars[star_wars[\"Gender\"] == \"Female\"]"
   ]
  },
  {
   "cell_type": "code",
   "execution_count": 51,
   "metadata": {
    "collapsed": false
   },
   "outputs": [
    {
     "name": "stdout",
     "output_type": "stream",
     "text": [
      "[4.0378250591016549, 4.2245862884160754, 4.2748815165876781, 2.9976359338061465, 2.458628841607565, 3.0023640661938535]\n",
      "[3.4292929292929295, 3.9546599496221662, 4.4181360201511337, 3.5440806045340052, 2.5692695214105794, 3.0780856423173804]\n",
      "[361, 323, 317, 342, 392, 387]\n",
      "[298, 237, 222, 255, 353, 338]\n"
     ]
    },
    {
     "data": {
      "text/plain": [
       "<matplotlib.text.Text at 0x7f0cd22119e8>"
      ]
     },
     "execution_count": 51,
     "metadata": {},
     "output_type": "execute_result"
    },
    {
     "data": {
      "image/png": "[encoded data removed]",
      "text/plain": [
       "<matplotlib.figure.Figure at 0x7f0cd23acc50>"
      ]
     },
     "metadata": {},
     "output_type": "display_data"
    },
    {
     "data": {
      "image/png": "[encoded data removed]",
      "text/plain": [
       "<matplotlib.figure.Figure at 0x7f0cd222c588>"
      ]
     },
     "metadata": {},
     "output_type": "display_data"
    },
    {
     "data": {
      "image/png": "[encoded data removed]",
      "text/plain": [
       "<matplotlib.figure.Figure at 0x7f0cd220ba20>"
      ]
     },
     "metadata": {},
     "output_type": "display_data"
    },
    {
     "data": {
      "image/png": "[encoded data removed]",
      "text/plain": [
       "<matplotlib.figure.Figure at 0x7f0cd21757b8>"
      ]
     },
     "metadata": {},
     "output_type": "display_data"
    }
   ],
   "source": [
    "avg_men = []\n",
    "avg_women = []\n",
    "sum_men = []\n",
    "sum_women = []\n",
    "\n",
    "for i in range(len(new_names2)):\n",
    "    avg_men.append(males[new_names2[i]].mean())\n",
    "    avg_women.append(females[new_names2[i]].mean())\n",
    "    sum_men.append(males[new_names[i]].sum())\n",
    "    sum_women.append(females[new_names[i]].sum())\n",
    "    \n",
    "print(avg_men)\n",
    "print(avg_women)\n",
    "print(sum_men)\n",
    "print(sum_women)\n",
    "\n",
    "fig, ax = plt.subplots(figsize=(6,6))    \n",
    "ax.bar(range(len(new_names2)),avg_men)\n",
    "ax.set_xticklabels(new_names2,rotation = 40)\n",
    "ax.set_title(\"Men favorite Star Wars Movies\")\n",
    "\n",
    "fig, ax = plt.subplots(figsize=(6,6))    \n",
    "ax.bar(range(len(new_names2)),avg_women)\n",
    "ax.set_xticklabels(new_names2,rotation = 40)\n",
    "ax.set_title(\"Women favorite Star Wars Movies\")\n",
    "\n",
    "fig, ax = plt.subplots(figsize=(6,6))    \n",
    "ax.bar(range(len(new_names2)),sum_men)\n",
    "ax.set_xticklabels(new_names2,rotation = 40)\n",
    "ax.set_title(\"Men most seen Star Wars Movies\")\n",
    "\n",
    "fig, ax = plt.subplots(figsize=(6,6))    \n",
    "ax.bar(range(len(new_names2)),sum_women)\n",
    "ax.set_xticklabels(new_names2,rotation = 40)\n",
    "ax.set_title(\"Women most seen Star Wars Movies\")"
   ]
  }
 ],
 "metadata": {
  "kernelspec": {
   "display_name": "Python 3",
   "language": "python",
   "name": "python3"
  },
  "language_info": {
   "codemirror_mode": {
    "name": "ipython",
    "version": 3
   },
   "file_extension": ".py",
   "mimetype": "text/x-python",
   "name": "python",
   "nbconvert_exporter": "python",
   "pygments_lexer": "ipython3",
   "version": "3.4.3"
  }
 },
 "nbformat": 4,
 "nbformat_minor": 0
}
